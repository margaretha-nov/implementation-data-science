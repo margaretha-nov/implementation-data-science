{
 "cells": [
  {
   "cell_type": "code",
   "execution_count": 2,
   "id": "2a3b4e5c-7365-45ea-9e2b-7436bf915d4e",
   "metadata": {},
   "outputs": [
    {
     "name": "stderr",
     "output_type": "stream",
     "text": [
      "C:\\Users\\ASUS\\AppData\\Local\\Temp\\ipykernel_10320\\3174680248.py:4: DtypeWarning: Columns (3) have mixed types. Specify dtype option on import or set low_memory=False.\n",
      "  book = pd.read_csv(r\"C:\\Users\\ASUS\\Downloads\\book.csv\")\n"
     ]
    },
    {
     "data": {
      "text/html": [
       "<div>\n",
       "<style scoped>\n",
       "    .dataframe tbody tr th:only-of-type {\n",
       "        vertical-align: middle;\n",
       "    }\n",
       "\n",
       "    .dataframe tbody tr th {\n",
       "        vertical-align: top;\n",
       "    }\n",
       "\n",
       "    .dataframe thead th {\n",
       "        text-align: right;\n",
       "    }\n",
       "</style>\n",
       "<table border=\"1\" class=\"dataframe\">\n",
       "  <thead>\n",
       "    <tr style=\"text-align: right;\">\n",
       "      <th></th>\n",
       "      <th>ISBN</th>\n",
       "      <th>Book-Title</th>\n",
       "      <th>Book-Author</th>\n",
       "      <th>Year-Of-Publication</th>\n",
       "      <th>Publisher</th>\n",
       "      <th>Image-URL-S</th>\n",
       "      <th>Image-URL-M</th>\n",
       "      <th>Image-URL-L</th>\n",
       "    </tr>\n",
       "  </thead>\n",
       "  <tbody>\n",
       "    <tr>\n",
       "      <th>0</th>\n",
       "      <td>0195153448</td>\n",
       "      <td>Classical Mythology</td>\n",
       "      <td>Mark P. O. Morford</td>\n",
       "      <td>2002</td>\n",
       "      <td>Oxford University Press</td>\n",
       "      <td>http://images.amazon.com/images/P/0195153448.0...</td>\n",
       "      <td>http://images.amazon.com/images/P/0195153448.0...</td>\n",
       "      <td>http://images.amazon.com/images/P/0195153448.0...</td>\n",
       "    </tr>\n",
       "    <tr>\n",
       "      <th>1</th>\n",
       "      <td>0002005018</td>\n",
       "      <td>Clara Callan</td>\n",
       "      <td>Richard Bruce Wright</td>\n",
       "      <td>2001</td>\n",
       "      <td>HarperFlamingo Canada</td>\n",
       "      <td>http://images.amazon.com/images/P/0002005018.0...</td>\n",
       "      <td>http://images.amazon.com/images/P/0002005018.0...</td>\n",
       "      <td>http://images.amazon.com/images/P/0002005018.0...</td>\n",
       "    </tr>\n",
       "    <tr>\n",
       "      <th>2</th>\n",
       "      <td>0060973129</td>\n",
       "      <td>Decision in Normandy</td>\n",
       "      <td>Carlo D'Este</td>\n",
       "      <td>1991</td>\n",
       "      <td>HarperPerennial</td>\n",
       "      <td>http://images.amazon.com/images/P/0060973129.0...</td>\n",
       "      <td>http://images.amazon.com/images/P/0060973129.0...</td>\n",
       "      <td>http://images.amazon.com/images/P/0060973129.0...</td>\n",
       "    </tr>\n",
       "    <tr>\n",
       "      <th>3</th>\n",
       "      <td>0374157065</td>\n",
       "      <td>Flu: The Story of the Great Influenza Pandemic...</td>\n",
       "      <td>Gina Bari Kolata</td>\n",
       "      <td>1999</td>\n",
       "      <td>Farrar Straus Giroux</td>\n",
       "      <td>http://images.amazon.com/images/P/0374157065.0...</td>\n",
       "      <td>http://images.amazon.com/images/P/0374157065.0...</td>\n",
       "      <td>http://images.amazon.com/images/P/0374157065.0...</td>\n",
       "    </tr>\n",
       "  </tbody>\n",
       "</table>\n",
       "</div>"
      ],
      "text/plain": [
       "         ISBN                                         Book-Title  \\\n",
       "0  0195153448                                Classical Mythology   \n",
       "1  0002005018                                       Clara Callan   \n",
       "2  0060973129                               Decision in Normandy   \n",
       "3  0374157065  Flu: The Story of the Great Influenza Pandemic...   \n",
       "\n",
       "            Book-Author Year-Of-Publication                Publisher  \\\n",
       "0    Mark P. O. Morford                2002  Oxford University Press   \n",
       "1  Richard Bruce Wright                2001    HarperFlamingo Canada   \n",
       "2          Carlo D'Este                1991          HarperPerennial   \n",
       "3      Gina Bari Kolata                1999     Farrar Straus Giroux   \n",
       "\n",
       "                                         Image-URL-S  \\\n",
       "0  http://images.amazon.com/images/P/0195153448.0...   \n",
       "1  http://images.amazon.com/images/P/0002005018.0...   \n",
       "2  http://images.amazon.com/images/P/0060973129.0...   \n",
       "3  http://images.amazon.com/images/P/0374157065.0...   \n",
       "\n",
       "                                         Image-URL-M  \\\n",
       "0  http://images.amazon.com/images/P/0195153448.0...   \n",
       "1  http://images.amazon.com/images/P/0002005018.0...   \n",
       "2  http://images.amazon.com/images/P/0060973129.0...   \n",
       "3  http://images.amazon.com/images/P/0374157065.0...   \n",
       "\n",
       "                                         Image-URL-L  \n",
       "0  http://images.amazon.com/images/P/0195153448.0...  \n",
       "1  http://images.amazon.com/images/P/0002005018.0...  \n",
       "2  http://images.amazon.com/images/P/0060973129.0...  \n",
       "3  http://images.amazon.com/images/P/0374157065.0...  "
      ]
     },
     "execution_count": 2,
     "metadata": {},
     "output_type": "execute_result"
    }
   ],
   "source": [
    "# Input data csv and check data\n",
    "import pandas as pd\n",
    "import numpy as np\n",
    "book = pd.read_csv(r\"C:\\Users\\ASUS\\Downloads\\book.csv\")\n",
    "book.head(4)"
   ]
  },
  {
   "cell_type": "code",
   "execution_count": 3,
   "id": "4b905c87-8aa4-4997-9b30-574629ea5859",
   "metadata": {},
   "outputs": [
    {
     "data": {
      "text/html": [
       "<div>\n",
       "<style scoped>\n",
       "    .dataframe tbody tr th:only-of-type {\n",
       "        vertical-align: middle;\n",
       "    }\n",
       "\n",
       "    .dataframe tbody tr th {\n",
       "        vertical-align: top;\n",
       "    }\n",
       "\n",
       "    .dataframe thead th {\n",
       "        text-align: right;\n",
       "    }\n",
       "</style>\n",
       "<table border=\"1\" class=\"dataframe\">\n",
       "  <thead>\n",
       "    <tr style=\"text-align: right;\">\n",
       "      <th></th>\n",
       "      <th>User-ID</th>\n",
       "      <th>Location</th>\n",
       "      <th>Age</th>\n",
       "    </tr>\n",
       "  </thead>\n",
       "  <tbody>\n",
       "    <tr>\n",
       "      <th>0</th>\n",
       "      <td>1</td>\n",
       "      <td>nyc, new york, usa</td>\n",
       "      <td>NaN</td>\n",
       "    </tr>\n",
       "    <tr>\n",
       "      <th>1</th>\n",
       "      <td>2</td>\n",
       "      <td>stockton, california, usa</td>\n",
       "      <td>18.0</td>\n",
       "    </tr>\n",
       "    <tr>\n",
       "      <th>2</th>\n",
       "      <td>3</td>\n",
       "      <td>moscow, yukon territory, russia</td>\n",
       "      <td>NaN</td>\n",
       "    </tr>\n",
       "    <tr>\n",
       "      <th>3</th>\n",
       "      <td>4</td>\n",
       "      <td>porto, v.n.gaia, portugal</td>\n",
       "      <td>17.0</td>\n",
       "    </tr>\n",
       "  </tbody>\n",
       "</table>\n",
       "</div>"
      ],
      "text/plain": [
       "   User-ID                         Location   Age\n",
       "0        1               nyc, new york, usa   NaN\n",
       "1        2        stockton, california, usa  18.0\n",
       "2        3  moscow, yukon territory, russia   NaN\n",
       "3        4        porto, v.n.gaia, portugal  17.0"
      ]
     },
     "execution_count": 3,
     "metadata": {},
     "output_type": "execute_result"
    }
   ],
   "source": [
    "user = pd.read_csv(r\"C:\\Users\\ASUS\\Downloads\\user.csv\")\n",
    "user.head(4)"
   ]
  },
  {
   "cell_type": "code",
   "execution_count": 4,
   "id": "dfbf8cf7-c652-48dc-b08f-a9ac6e1fda56",
   "metadata": {},
   "outputs": [
    {
     "data": {
      "text/html": [
       "<div>\n",
       "<style scoped>\n",
       "    .dataframe tbody tr th:only-of-type {\n",
       "        vertical-align: middle;\n",
       "    }\n",
       "\n",
       "    .dataframe tbody tr th {\n",
       "        vertical-align: top;\n",
       "    }\n",
       "\n",
       "    .dataframe thead th {\n",
       "        text-align: right;\n",
       "    }\n",
       "</style>\n",
       "<table border=\"1\" class=\"dataframe\">\n",
       "  <thead>\n",
       "    <tr style=\"text-align: right;\">\n",
       "      <th></th>\n",
       "      <th>User-ID</th>\n",
       "      <th>ISBN</th>\n",
       "      <th>Book-Rating</th>\n",
       "    </tr>\n",
       "  </thead>\n",
       "  <tbody>\n",
       "    <tr>\n",
       "      <th>114369</th>\n",
       "      <td>26535</td>\n",
       "      <td>0373240880</td>\n",
       "      <td>0</td>\n",
       "    </tr>\n",
       "    <tr>\n",
       "      <th>455885</th>\n",
       "      <td>109574</td>\n",
       "      <td>0721641318</td>\n",
       "      <td>10</td>\n",
       "    </tr>\n",
       "    <tr>\n",
       "      <th>580155</th>\n",
       "      <td>139742</td>\n",
       "      <td>0676972853</td>\n",
       "      <td>0</td>\n",
       "    </tr>\n",
       "    <tr>\n",
       "      <th>247518</th>\n",
       "      <td>56447</td>\n",
       "      <td>1555971687</td>\n",
       "      <td>0</td>\n",
       "    </tr>\n",
       "  </tbody>\n",
       "</table>\n",
       "</div>"
      ],
      "text/plain": [
       "        User-ID        ISBN  Book-Rating\n",
       "114369    26535  0373240880            0\n",
       "455885   109574  0721641318           10\n",
       "580155   139742  0676972853            0\n",
       "247518    56447  1555971687            0"
      ]
     },
     "execution_count": 4,
     "metadata": {},
     "output_type": "execute_result"
    }
   ],
   "source": [
    "rating = pd.read_csv(r\"C:\\Users\\ASUS\\Downloads\\rating.csv\").sample(35000)\n",
    "rating.head(4)"
   ]
  },
  {
   "cell_type": "code",
   "execution_count": 5,
   "id": "ea51fd3f-68e1-4327-bd95-627aac7246b0",
   "metadata": {},
   "outputs": [
    {
     "name": "stdout",
     "output_type": "stream",
     "text": [
      "Book : (271360, 8)\n",
      "User : (278858, 3)\n",
      "Rating : (35000, 3)\n",
      "null value in Book : ISBN                   0\n",
      "Book-Title             0\n",
      "Book-Author            2\n",
      "Year-Of-Publication    0\n",
      "Publisher              2\n",
      "Image-URL-S            0\n",
      "Image-URL-M            0\n",
      "Image-URL-L            3\n",
      "dtype: int64\n",
      "null value in User : User-ID          0\n",
      "Location         0\n",
      "Age         110762\n",
      "dtype: int64\n",
      "null value in Rating: User-ID        0\n",
      "ISBN           0\n",
      "Book-Rating    0\n",
      "dtype: int64\n"
     ]
    }
   ],
   "source": [
    "print('Book :',book.shape)\n",
    "print('User :',user.shape)\n",
    "print('Rating :',rating.shape)\n",
    "print('null value in Book :',book.isnull().sum())\n",
    "print('null value in User :',user.isnull().sum())\n",
    "print('null value in Rating:',rating.isnull().sum())"
   ]
  },
  {
   "cell_type": "code",
   "execution_count": 6,
   "id": "aefb21b9-93ce-4549-a904-723eb39771ea",
   "metadata": {},
   "outputs": [
    {
     "data": {
      "text/html": [
       "<div>\n",
       "<style scoped>\n",
       "    .dataframe tbody tr th:only-of-type {\n",
       "        vertical-align: middle;\n",
       "    }\n",
       "\n",
       "    .dataframe tbody tr th {\n",
       "        vertical-align: top;\n",
       "    }\n",
       "\n",
       "    .dataframe thead th {\n",
       "        text-align: right;\n",
       "    }\n",
       "</style>\n",
       "<table border=\"1\" class=\"dataframe\">\n",
       "  <thead>\n",
       "    <tr style=\"text-align: right;\">\n",
       "      <th></th>\n",
       "      <th>User-ID</th>\n",
       "      <th>ISBN</th>\n",
       "      <th>Book-Rating</th>\n",
       "      <th>Location</th>\n",
       "      <th>Age</th>\n",
       "    </tr>\n",
       "  </thead>\n",
       "  <tbody>\n",
       "    <tr>\n",
       "      <th>0</th>\n",
       "      <td>26535</td>\n",
       "      <td>0373240880</td>\n",
       "      <td>0</td>\n",
       "      <td>hickory, mississippi, usa</td>\n",
       "      <td>41.0</td>\n",
       "    </tr>\n",
       "    <tr>\n",
       "      <th>1</th>\n",
       "      <td>26535</td>\n",
       "      <td>0843943629</td>\n",
       "      <td>5</td>\n",
       "      <td>hickory, mississippi, usa</td>\n",
       "      <td>41.0</td>\n",
       "    </tr>\n",
       "    <tr>\n",
       "      <th>2</th>\n",
       "      <td>26535</td>\n",
       "      <td>0451211286</td>\n",
       "      <td>0</td>\n",
       "      <td>hickory, mississippi, usa</td>\n",
       "      <td>41.0</td>\n",
       "    </tr>\n",
       "  </tbody>\n",
       "</table>\n",
       "</div>"
      ],
      "text/plain": [
       "   User-ID        ISBN  Book-Rating                   Location   Age\n",
       "0    26535  0373240880            0  hickory, mississippi, usa  41.0\n",
       "1    26535  0843943629            5  hickory, mississippi, usa  41.0\n",
       "2    26535  0451211286            0  hickory, mississippi, usa  41.0"
      ]
     },
     "execution_count": 6,
     "metadata": {},
     "output_type": "execute_result"
    }
   ],
   "source": [
    "# PreProcessing Value \n",
    "Urate = rating.merge(user,left_on='User-ID',right_on='User-ID')\n",
    "Urate.head(3)"
   ]
  },
  {
   "cell_type": "code",
   "execution_count": 7,
   "id": "499a36f4-265d-42bc-b3f3-c9b16c7f17a6",
   "metadata": {},
   "outputs": [
    {
     "data": {
      "text/html": [
       "<div>\n",
       "<style scoped>\n",
       "    .dataframe tbody tr th:only-of-type {\n",
       "        vertical-align: middle;\n",
       "    }\n",
       "\n",
       "    .dataframe tbody tr th {\n",
       "        vertical-align: top;\n",
       "    }\n",
       "\n",
       "    .dataframe thead th {\n",
       "        text-align: right;\n",
       "    }\n",
       "</style>\n",
       "<table border=\"1\" class=\"dataframe\">\n",
       "  <thead>\n",
       "    <tr style=\"text-align: right;\">\n",
       "      <th></th>\n",
       "      <th>ISBN</th>\n",
       "      <th>Book-Title</th>\n",
       "      <th>Book-Author</th>\n",
       "      <th>Year-Of-Publication</th>\n",
       "      <th>Publisher</th>\n",
       "      <th>Image-URL-S</th>\n",
       "      <th>Image-URL-M</th>\n",
       "      <th>Image-URL-L</th>\n",
       "      <th>User-ID</th>\n",
       "      <th>Book-Rating</th>\n",
       "      <th>Location</th>\n",
       "      <th>Age</th>\n",
       "    </tr>\n",
       "  </thead>\n",
       "  <tbody>\n",
       "    <tr>\n",
       "      <th>0</th>\n",
       "      <td>0399135782</td>\n",
       "      <td>The Kitchen God's Wife</td>\n",
       "      <td>Amy Tan</td>\n",
       "      <td>1991</td>\n",
       "      <td>Putnam Pub Group</td>\n",
       "      <td>http://images.amazon.com/images/P/0399135782.0...</td>\n",
       "      <td>http://images.amazon.com/images/P/0399135782.0...</td>\n",
       "      <td>http://images.amazon.com/images/P/0399135782.0...</td>\n",
       "      <td>11676</td>\n",
       "      <td>9</td>\n",
       "      <td>n/a, n/a, n/a</td>\n",
       "      <td>NaN</td>\n",
       "    </tr>\n",
       "    <tr>\n",
       "      <th>1</th>\n",
       "      <td>0399135782</td>\n",
       "      <td>The Kitchen God's Wife</td>\n",
       "      <td>Amy Tan</td>\n",
       "      <td>1991</td>\n",
       "      <td>Putnam Pub Group</td>\n",
       "      <td>http://images.amazon.com/images/P/0399135782.0...</td>\n",
       "      <td>http://images.amazon.com/images/P/0399135782.0...</td>\n",
       "      <td>http://images.amazon.com/images/P/0399135782.0...</td>\n",
       "      <td>153461</td>\n",
       "      <td>0</td>\n",
       "      <td>upland, california, usa</td>\n",
       "      <td>NaN</td>\n",
       "    </tr>\n",
       "    <tr>\n",
       "      <th>2</th>\n",
       "      <td>0399135782</td>\n",
       "      <td>The Kitchen God's Wife</td>\n",
       "      <td>Amy Tan</td>\n",
       "      <td>1991</td>\n",
       "      <td>Putnam Pub Group</td>\n",
       "      <td>http://images.amazon.com/images/P/0399135782.0...</td>\n",
       "      <td>http://images.amazon.com/images/P/0399135782.0...</td>\n",
       "      <td>http://images.amazon.com/images/P/0399135782.0...</td>\n",
       "      <td>136509</td>\n",
       "      <td>0</td>\n",
       "      <td>santa barbara, california, usa</td>\n",
       "      <td>31.0</td>\n",
       "    </tr>\n",
       "  </tbody>\n",
       "</table>\n",
       "</div>"
      ],
      "text/plain": [
       "         ISBN              Book-Title Book-Author Year-Of-Publication  \\\n",
       "0  0399135782  The Kitchen God's Wife     Amy Tan                1991   \n",
       "1  0399135782  The Kitchen God's Wife     Amy Tan                1991   \n",
       "2  0399135782  The Kitchen God's Wife     Amy Tan                1991   \n",
       "\n",
       "          Publisher                                        Image-URL-S  \\\n",
       "0  Putnam Pub Group  http://images.amazon.com/images/P/0399135782.0...   \n",
       "1  Putnam Pub Group  http://images.amazon.com/images/P/0399135782.0...   \n",
       "2  Putnam Pub Group  http://images.amazon.com/images/P/0399135782.0...   \n",
       "\n",
       "                                         Image-URL-M  \\\n",
       "0  http://images.amazon.com/images/P/0399135782.0...   \n",
       "1  http://images.amazon.com/images/P/0399135782.0...   \n",
       "2  http://images.amazon.com/images/P/0399135782.0...   \n",
       "\n",
       "                                         Image-URL-L  User-ID  Book-Rating  \\\n",
       "0  http://images.amazon.com/images/P/0399135782.0...    11676            9   \n",
       "1  http://images.amazon.com/images/P/0399135782.0...   153461            0   \n",
       "2  http://images.amazon.com/images/P/0399135782.0...   136509            0   \n",
       "\n",
       "                         Location   Age  \n",
       "0                   n/a, n/a, n/a   NaN  \n",
       "1         upland, california, usa   NaN  \n",
       "2  santa barbara, california, usa  31.0  "
      ]
     },
     "execution_count": 7,
     "metadata": {},
     "output_type": "execute_result"
    }
   ],
   "source": [
    "books =book.merge(Urate, on='ISBN')\n",
    "books.head(3)"
   ]
  },
  {
   "cell_type": "code",
   "execution_count": 8,
   "id": "328717e6-472d-4017-a5b3-2320be00c440",
   "metadata": {},
   "outputs": [
    {
     "name": "stderr",
     "output_type": "stream",
     "text": [
      "C:\\Users\\ASUS\\AppData\\Local\\Temp\\ipykernel_10320\\2198884375.py:3: SettingWithCopyWarning: \n",
      "A value is trying to be set on a copy of a slice from a DataFrame\n",
      "\n",
      "See the caveats in the documentation: https://pandas.pydata.org/pandas-docs/stable/user_guide/indexing.html#returning-a-view-versus-a-copy\n",
      "  book_urate.dropna(inplace=True)\n",
      "C:\\Users\\ASUS\\AppData\\Local\\Temp\\ipykernel_10320\\2198884375.py:5: SettingWithCopyWarning: \n",
      "A value is trying to be set on a copy of a slice from a DataFrame\n",
      "\n",
      "See the caveats in the documentation: https://pandas.pydata.org/pandas-docs/stable/user_guide/indexing.html#returning-a-view-versus-a-copy\n",
      "  book_urate.drop(index=book_urate[book_urate[\"Book-Rating\"]==0].index,inplace=True)\n",
      "C:\\Users\\ASUS\\AppData\\Local\\Temp\\ipykernel_10320\\2198884375.py:6: SettingWithCopyWarning: \n",
      "A value is trying to be set on a copy of a slice from a DataFrame.\n",
      "Try using .loc[row_indexer,col_indexer] = value instead\n",
      "\n",
      "See the caveats in the documentation: https://pandas.pydata.org/pandas-docs/stable/user_guide/indexing.html#returning-a-view-versus-a-copy\n",
      "  book_urate[\"Book-Title\"]=book_urate[\"Book-Title\"].apply(lambda x: re.sub(\"[\\W_]+\",\" \",x).strip())\n"
     ]
    },
    {
     "data": {
      "text/html": [
       "<div>\n",
       "<style scoped>\n",
       "    .dataframe tbody tr th:only-of-type {\n",
       "        vertical-align: middle;\n",
       "    }\n",
       "\n",
       "    .dataframe tbody tr th {\n",
       "        vertical-align: top;\n",
       "    }\n",
       "\n",
       "    .dataframe thead th {\n",
       "        text-align: right;\n",
       "    }\n",
       "</style>\n",
       "<table border=\"1\" class=\"dataframe\">\n",
       "  <thead>\n",
       "    <tr style=\"text-align: right;\">\n",
       "      <th></th>\n",
       "      <th>ISBN</th>\n",
       "      <th>Book-Title</th>\n",
       "      <th>Book-Author</th>\n",
       "      <th>User-ID</th>\n",
       "      <th>Book-Rating</th>\n",
       "      <th>Publisher</th>\n",
       "    </tr>\n",
       "  </thead>\n",
       "  <tbody>\n",
       "    <tr>\n",
       "      <th>0</th>\n",
       "      <td>0399135782</td>\n",
       "      <td>The Kitchen God s Wife</td>\n",
       "      <td>Amy Tan</td>\n",
       "      <td>11676</td>\n",
       "      <td>9</td>\n",
       "      <td>Putnam Pub Group</td>\n",
       "    </tr>\n",
       "    <tr>\n",
       "      <th>3</th>\n",
       "      <td>074322678X</td>\n",
       "      <td>Where You ll Find Me And Other Stories</td>\n",
       "      <td>Ann Beattie</td>\n",
       "      <td>8</td>\n",
       "      <td>5</td>\n",
       "      <td>Scribner</td>\n",
       "    </tr>\n",
       "    <tr>\n",
       "      <th>9</th>\n",
       "      <td>0440234743</td>\n",
       "      <td>The Testament</td>\n",
       "      <td>John Grisham</td>\n",
       "      <td>9419</td>\n",
       "      <td>5</td>\n",
       "      <td>Dell</td>\n",
       "    </tr>\n",
       "    <tr>\n",
       "      <th>10</th>\n",
       "      <td>0440234743</td>\n",
       "      <td>The Testament</td>\n",
       "      <td>John Grisham</td>\n",
       "      <td>223331</td>\n",
       "      <td>7</td>\n",
       "      <td>Dell</td>\n",
       "    </tr>\n",
       "    <tr>\n",
       "      <th>11</th>\n",
       "      <td>0440234743</td>\n",
       "      <td>The Testament</td>\n",
       "      <td>John Grisham</td>\n",
       "      <td>207825</td>\n",
       "      <td>7</td>\n",
       "      <td>Dell</td>\n",
       "    </tr>\n",
       "  </tbody>\n",
       "</table>\n",
       "</div>"
      ],
      "text/plain": [
       "          ISBN                              Book-Title   Book-Author  User-ID  \\\n",
       "0   0399135782                  The Kitchen God s Wife       Amy Tan    11676   \n",
       "3   074322678X  Where You ll Find Me And Other Stories   Ann Beattie        8   \n",
       "9   0440234743                           The Testament  John Grisham     9419   \n",
       "10  0440234743                           The Testament  John Grisham   223331   \n",
       "11  0440234743                           The Testament  John Grisham   207825   \n",
       "\n",
       "    Book-Rating         Publisher  \n",
       "0             9  Putnam Pub Group  \n",
       "3             5          Scribner  \n",
       "9             5              Dell  \n",
       "10            7              Dell  \n",
       "11            7              Dell  "
      ]
     },
     "execution_count": 8,
     "metadata": {},
     "output_type": "execute_result"
    }
   ],
   "source": [
    "import re\n",
    "book_urate = books[['ISBN', 'Book-Title', 'Book-Author', 'User-ID', 'Book-Rating','Publisher']]\n",
    "book_urate.dropna(inplace=True)\n",
    "book_urate.reset_index(drop=True, inplace = True)\n",
    "book_urate.drop(index=book_urate[book_urate[\"Book-Rating\"]==0].index,inplace=True)\n",
    "book_urate[\"Book-Title\"]=book_urate[\"Book-Title\"].apply(lambda x: re.sub(\"[\\W_]+\",\" \",x).strip())\n",
    "book_urate.head(5)"
   ]
  },
  {
   "cell_type": "code",
   "execution_count": 9,
   "id": "16355a44-1e5c-4519-b2da-32896a5d3c47",
   "metadata": {},
   "outputs": [
    {
     "name": "stdout",
     "output_type": "stream",
     "text": [
      "After drop duplicated data\n"
     ]
    },
    {
     "data": {
      "text/plain": [
       "(11633, 6)"
      ]
     },
     "execution_count": 9,
     "metadata": {},
     "output_type": "execute_result"
    }
   ],
   "source": [
    "# Drop duplicated data \n",
    "BOOK = book_urate.drop_duplicates(keep='first')\n",
    "print(\"After drop duplicated data\")\n",
    "BOOK.shape"
   ]
  },
  {
   "cell_type": "code",
   "execution_count": 10,
   "id": "0b53f96b-f7ad-468a-b33b-82c421cbed71",
   "metadata": {},
   "outputs": [
    {
     "data": {
      "text/plain": [
       "ISBN           0\n",
       "Book-Title     0\n",
       "Book-Author    0\n",
       "User-ID        0\n",
       "Book-Rating    0\n",
       "Publisher      0\n",
       "dtype: int64"
      ]
     },
     "execution_count": 10,
     "metadata": {},
     "output_type": "execute_result"
    }
   ],
   "source": [
    "# Checking Missing Value\n",
    "BOOK.isna().sum()"
   ]
  },
  {
   "cell_type": "code",
   "execution_count": 11,
   "id": "dab74091-7c46-47dc-993e-4378b5eff523",
   "metadata": {},
   "outputs": [
    {
     "name": "stderr",
     "output_type": "stream",
     "text": [
      "F:\\anacondapython\\Lib\\site-packages\\seaborn\\_oldcore.py:1119: FutureWarning: use_inf_as_na option is deprecated and will be removed in a future version. Convert inf values to NaN before operating instead.\n",
      "  with pd.option_context('mode.use_inf_as_na', True):\n"
     ]
    },
    {
     "data": {
      "text/plain": [
       "<Axes: xlabel='Book-Rating', ylabel='Count'>"
      ]
     },
     "execution_count": 11,
     "metadata": {},
     "output_type": "execute_result"
    },
    {
     "data": {
      "image/png": "[encoded data removed]",
      "text/plain": [
       "<Figure size 640x480 with 1 Axes>"
      ]
     },
     "metadata": {},
     "output_type": "display_data"
    }
   ],
   "source": [
    "# Visualisasi data \n",
    "import matplotlib.pyplot as plt\n",
    "import seaborn as sns\n",
    "sns.histplot(BOOK['Book-Rating'])"
   ]
  },
  {
   "cell_type": "code",
   "execution_count": 12,
   "id": "23c7db18-995b-4402-94f6-768b4662a4b1",
   "metadata": {},
   "outputs": [
    {
     "data": {
      "text/plain": [
       "<Axes: xlabel='Book-Rating'>"
      ]
     },
     "execution_count": 12,
     "metadata": {},
     "output_type": "execute_result"
    },
    {
     "data": {
      "image/png": "[encoded data removed]",
      "text/plain": [
       "<Figure size 640x480 with 1 Axes>"
      ]
     },
     "metadata": {},
     "output_type": "display_data"
    }
   ],
   "source": [
    "# Check outliers using boxplot\n",
    "import matplotlib.pyplot as plt\n",
    "import seaborn as sns\n",
    "sns.boxplot(x=BOOK['Book-Rating'])"
   ]
  },
  {
   "cell_type": "code",
   "execution_count": 13,
   "id": "3b13563b-8861-4128-a91f-f5bf1a195364",
   "metadata": {},
   "outputs": [],
   "source": [
    "# SPlitting Data \n",
    "from sklearn.model_selection import train_test_split\n",
    "train_data, test_data = train_test_split(BOOK, test_size=0.3, random_state=42)"
   ]
  },
  {
   "cell_type": "code",
   "execution_count": 14,
   "id": "9f55e138-4280-4be5-95ca-163d0af1ccec",
   "metadata": {},
   "outputs": [
    {
     "name": "stdout",
     "output_type": "stream",
     "text": [
      "Rekomendasi Buku Populer untuk Data Train:\n",
      "                               Book-Title  VOTES  AverageRatings  Popularity\n",
      "0                              Life of Pi     12        8.583333    8.441380\n",
      "1                       The Da Vinci Code     14        8.285714    8.198707\n",
      "2                The Lovely Bones A Novel     12        8.250000    8.155665\n",
      "3                       Angels amp Demons     11        8.000000    7.936870\n",
      "4                         A Painted House     12        7.750000    7.727094\n",
      "5                   House of Sand and Fog     10        7.300000    7.348276\n",
      "6  The Girls Guide to Hunting and Fishing     10        6.000000    6.264943\n",
      "7                             Wild Animus     17        4.705882    5.009438\n"
     ]
    }
   ],
   "source": [
    "# Popularity Based Recommendation System \n",
    "def popular_bookstrain(train_data, n=1000):\n",
    "    Jumlah_rating = train_data.groupby(\"Book-Title\").count()[\"Book-Rating\"].reset_index()\n",
    "    Jumlah_rating.rename(columns={\"Book-Rating\": \"VOTES\"}, inplace=True)\n",
    "    \n",
    "    rating_average = train_data.groupby(\"Book-Title\")[\"Book-Rating\"].mean().reset_index()\n",
    "    rating_average.rename(columns={\"Book-Rating\": \"AverageRatings\"}, inplace=True)\n",
    "    \n",
    "    Popular = Jumlah_rating.merge(rating_average, on=\"Book-Title\")\n",
    "    \n",
    "    def weighted_rate(x):\n",
    "        v = x[\"VOTES\"]\n",
    "        R = x[\"AverageRatings\"]\n",
    "        return ((v * R) + (m * C)) / (v + m)\n",
    "    \n",
    "    C = Popular[\"AverageRatings\"].mean()\n",
    "    m = Popular[\"VOTES\"].quantile(0.95)\n",
    "    \n",
    "    Popular = Popular[Popular[\"VOTES\"] >= 10]\n",
    "    Popular[\"Popularity\"] = Popular.apply(weighted_rate, axis=1)\n",
    "    Popular = Popular.sort_values(by=\"Popularity\", ascending=False)\n",
    "    \n",
    "    return Popular[[\"Book-Title\", \"VOTES\", \"AverageRatings\", \"Popularity\"]].reset_index(drop=True).head(n)\n",
    "# Popularity with train data\n",
    "popularBook_train =popular_bookstrain(train_data, n=50)\n",
    "print(\"Rekomendasi Buku Populer untuk Data Train:\")\n",
    "print(popularBook_train)\n"
   ]
  },
  {
   "cell_type": "code",
   "execution_count": 17,
   "id": "6b22d53a-8555-46f9-8670-5f4f0660a9d5",
   "metadata": {},
   "outputs": [
    {
     "name": "stdout",
     "output_type": "stream",
     "text": [
      "Rekomendasi Buku Populer untuk Data Test:\n",
      "                                      Book-Title  VOTES  AverageRatings  \\\n",
      "0                       The Lovely Bones A Novel      7        8.857143   \n",
      "1                        The Secret Life of Bees      6        8.833333   \n",
      "2              The Red Tent Bestselling Backlist      5        8.200000   \n",
      "3                          House of Sand and Fog      5        8.000000   \n",
      "4                              The Da Vinci Code      9        7.888889   \n",
      "5                      Girl with a Pearl Earring      5        7.800000   \n",
      "6  She s Come Undone Oprah s Book Club Paperback      5        7.800000   \n",
      "7                                    Wild Animus     11        4.545455   \n",
      "\n",
      "   Popularity  \n",
      "0    8.576109  \n",
      "1    8.523122  \n",
      "2    8.026426  \n",
      "3    7.883568  \n",
      "4    7.834998  \n",
      "5    7.740711  \n",
      "6    7.740711  \n",
      "7    5.014229  \n"
     ]
    }
   ],
   "source": [
    "# Popularity Based Recommendation System \n",
    "def popular_bookstest(test_data, n=1000):\n",
    "    Jumlah_rating = test_data.groupby(\"Book-Title\").count()[\"Book-Rating\"].reset_index()\n",
    "    Jumlah_rating.rename(columns={\"Book-Rating\": \"VOTES\"}, inplace=True)\n",
    "    \n",
    "    rating_average = test_data.groupby(\"Book-Title\")[\"Book-Rating\"].mean().reset_index()\n",
    "    rating_average.rename(columns={\"Book-Rating\": \"AverageRatings\"}, inplace=True)\n",
    "    \n",
    "    Popular = Jumlah_rating.merge(rating_average, on=\"Book-Title\")\n",
    "    \n",
    "    def weighted_rate(x):\n",
    "        v = x[\"VOTES\"]\n",
    "        R = x[\"AverageRatings\"]\n",
    "        return ((v * R) + (m * C)) / (v + m)\n",
    "    \n",
    "    C = Popular[\"AverageRatings\"].mean()\n",
    "    m = Popular[\"VOTES\"].quantile(0.95)\n",
    "    \n",
    "    Popular = Popular[Popular[\"VOTES\"] >= 5]\n",
    "    Popular[\"Popularity\"] = Popular.apply(weighted_rate, axis=1)\n",
    "    Popular = Popular.sort_values(by=\"Popularity\", ascending=False)\n",
    "    \n",
    "    return Popular[[\"Book-Title\", \"VOTES\", \"AverageRatings\", \"Popularity\"]].reset_index(drop=True).head(n)\n",
    "\n",
    "# Menghasilkan rekomendasi buku paling populer untuk data uji\n",
    "popularBook_test = popular_bookstest(test_data, n=10)\n",
    "print(\"Rekomendasi Buku Populer untuk Data Test:\")\n",
    "print(popularBook_test)"
   ]
  },
  {
   "cell_type": "code",
   "execution_count": 18,
   "id": "0cacd71a-8ae3-4148-98ee-8826373d82f9",
   "metadata": {},
   "outputs": [
    {
     "data": {
      "image/png": "[encoded data removed]",
      "text/plain": [
       "<Figure size 1200x600 with 1 Axes>"
      ]
     },
     "metadata": {},
     "output_type": "display_data"
    }
   ],
   "source": [
    "n = 5\n",
    "fig, ax = plt.subplots(figsize=(12, 6))\n",
    "ax.set_title(\"MOST POPULAR 5 BOOKS\", fontsize=20, color=\"black\", pad=40)\n",
    "\n",
    "# Loop untuk menambahkan judul buku ke plot\n",
    "for i in range(n):\n",
    "    book_title = popularBook_test.iloc[i][\"Book-Title\"]\n",
    "    avg_rating = round(test_data[test_data[\"Book-Title\"] == book_title][\"Book-Rating\"].mean(), 1)\n",
    "    ax.text(0.1, 1 - i * 0.11, f\"{book_title}\\nAverage Rating: {avg_rating}\", fontsize=12, color=\"mediumorchid\")\n",
    "\n",
    "# Mengatur axis dan tampilan\n",
    "ax.axis(\"off\")\n",
    "plt.show()"
   ]
  },
  {
   "cell_type": "code",
   "execution_count": 25,
   "id": "43a27095-b6b4-46c4-9184-b987f5bf3015",
   "metadata": {},
   "outputs": [
    {
     "name": "stdout",
     "output_type": "stream",
     "text": [
      "Novelty Score: 0.00\n"
     ]
    }
   ],
   "source": [
    "# Evaluation Model\n",
    "import pandas as pd\n",
    "\n",
    "# Definisi fungsi novelty\n",
    "def novelty(top_three, popularBook_test):\n",
    "    novelty_score = 0\n",
    "    count = 0\n",
    "\n",
    "    # Iterasi melalui daftar top_three\n",
    "    for book_title in top_three:\n",
    "        # Periksa apakah judul buku tidak ada di dalam kolom \"Book-Title\" dari popularBook_test\n",
    "        if book_title not in popularBook_test[\"Book-Title\"].values:\n",
    "            novelty_score += 1\n",
    "            count += 1\n",
    "\n",
    "    # Hitung rata-rata novelty_score jika ada buku yang tidak ditemukan\n",
    "    if count > 0:\n",
    "        novelty_score /= count\n",
    "\n",
    "    return novelty_score\n",
    "\n",
    "# Contoh data atau definisi popularBook_test (gunakan data sesuai kebutuhan Anda)\n",
    "popularBook = popularBook_test\n",
    "\n",
    "# Membuat DataFrame popularBook_test dari data contoh\n",
    "Recomend = pd.DataFrame(popularBook)\n",
    "top_three = Recomend[\"Book-Title\"].tolist()\n",
    "\n",
    "# Menghitung novelty score dengan memanggil fungsi novelty\n",
    "novelty_score = novelty(top_three, Recomend)\n",
    "print(f\"Novelty Score: {novelty_score:.2f}\")"
   ]
  },
  {
   "cell_type": "code",
   "execution_count": null,
   "id": "3b37955d-5bd5-478d-b64c-8b1e44a427bb",
   "metadata": {},
   "outputs": [],
   "source": []
  }
 ],
 "metadata": {
  "kernelspec": {
   "display_name": "Python 3 (ipykernel)",
   "language": "python",
   "name": "python3"
  },
  "language_info": {
   "codemirror_mode": {
    "name": "ipython",
    "version": 3
   },
   "file_extension": ".py",
   "mimetype": "text/x-python",
   "name": "python",
   "nbconvert_exporter": "python",
   "pygments_lexer": "ipython3",
   "version": "3.11.7"
  }
 },
 "nbformat": 4,
 "nbformat_minor": 5
}
