{
 "cells": [
  {
   "cell_type": "code",
   "execution_count": 28,
   "id": "626f0a55-4f8b-4ac3-872b-e3ed9ea8bd34",
   "metadata": {},
   "outputs": [
    {
     "name": "stdout",
     "output_type": "stream",
     "text": [
      "    TransactionAmount\n",
      "0                 100\n",
      "1                 150\n",
      "2                  50\n",
      "3                 100\n",
      "4                 130\n",
      "5                 120\n",
      "6                 100\n",
      "7                  85\n",
      "8                  70\n",
      "9                 150\n",
      "10                150\n",
      "11                120\n",
      "12                 50\n",
      "13                100\n",
      "14                100\n",
      "15                140\n",
      "16                 90\n",
      "17                150\n",
      "18                 50\n",
      "19                 90\n",
      "20                120\n",
      "21                100\n",
      "22                110\n",
      "23                 75\n",
      "24                 65\n",
      "Mean Transaction Amount: 102.6\n",
      "Median Transaction Amount: 100.0\n",
      "Mode Transaction Amount: 100\n",
      "Range: 100\n",
      "Varians: 972.2399999999999\n",
      "Standar Deviasi: 31.18076330047101\n",
      "Q1 (25th percentile): 85.0\n",
      "Median (50th percentile): 100.0\n",
      "Q3 (75th percentile): 120.0\n",
      "Nilai t-statistic: 0.4085001556802841\n",
      "Nilai p-value: 0.6865284813438117\n",
      "Terima H0: Rata-rata sama dengan 100\n"
     ]
    }
   ],
   "source": [
    "import pandas as pd\n",
    "import numpy as np\n",
    "TransactionAmount = [100,150,50,100,130,120,100,85,70,150,150,120,50,100,100,140,90,150,50,90,120,100,110,75,65]\n",
    "df = pd.DataFrame(TransactionAmount,columns=['TransactionAmount'])\n",
    "print(df)\n",
    "\n",
    "# Analisis Measure of central tendency\n",
    "mean_TransactionAmount = df['TransactionAmount'].mean()\n",
    "print(\"Mean Transaction Amount:\", mean_TransactionAmount)\n",
    "median_transaction_amount = df['TransactionAmount'].median()\n",
    "print(\"Median Transaction Amount:\", median_transaction_amount)\n",
    "mode_transaction_amount = df['TransactionAmount'].mode()\n",
    "print(\"Mode Transaction Amount:\", mode_transaction_amount[0])\n",
    "\n",
    "# Analisis Measure of Variability\n",
    "data_range = np.max(TransactionAmount) - np.min(TransactionAmount)\n",
    "print(\"Range:\", data_range)\n",
    "data_variance = np.var(TransactionAmount)\n",
    "print(\"Varians:\", data_variance)\n",
    "data_std_deviation = np.std(TransactionAmount)\n",
    "print(\"Standar Deviasi:\", data_std_deviation)\n",
    "Q1 = np.percentile(TransactionAmount, 25)\n",
    "Q2 = np.percentile(TransactionAmount, 50)\n",
    "Q3 = np.percentile(TransactionAmount, 75)\n",
    "print(\"Q1 (25th percentile):\", Q1)\n",
    "print(\"Median (50th percentile):\", Q2)\n",
    "print(\"Q3 (75th percentile):\", Q3)\n",
    "\n",
    "# Proses  T- test\n",
    "from scipy import stats\n",
    "mu = 100  \n",
    "t_statistic, p_value = stats.ttest_1samp(TransactionAmount, mu)\n",
    "# Menampilkan hasil\n",
    "print(\"Nilai t-statistic:\", t_statistic)\n",
    "print(\"Nilai p-value:\", p_value)\n",
    "# Menentukan hipotesis nol (H0) dan hipotesis alternatif (H1)\n",
    "if p_value < 0.05:\n",
    "    print(\"Tolak H0: Rata-rata tidak sama dengan\", mu)\n",
    "else:\n",
    "    print(\"Terima H0: Rata-rata sama dengan\", mu)"
   ]
  },
  {
   "cell_type": "code",
   "execution_count": null,
   "id": "97046350-b39d-424e-8992-be5dfa48565c",
   "metadata": {},
   "outputs": [],
   "source": []
  },
  {
   "cell_type": "code",
   "execution_count": null,
   "id": "15851282-3c85-4926-ba8a-83e47feff630",
   "metadata": {},
   "outputs": [],
   "source": []
  }
 ],
 "metadata": {
  "kernelspec": {
   "display_name": "Python 3 (ipykernel)",
   "language": "python",
   "name": "python3"
  },
  "language_info": {
   "codemirror_mode": {
    "name": "ipython",
    "version": 3
   },
   "file_extension": ".py",
   "mimetype": "text/x-python",
   "name": "python",
   "nbconvert_exporter": "python",
   "pygments_lexer": "ipython3",
   "version": "3.11.7"
  }
 },
 "nbformat": 4,
 "nbformat_minor": 5
}
